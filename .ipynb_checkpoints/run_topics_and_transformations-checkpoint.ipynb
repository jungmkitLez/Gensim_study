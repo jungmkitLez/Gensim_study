{
 "cells": [
  {
   "cell_type": "code",
   "execution_count": 1,
   "metadata": {
    "ExecuteTime": {
     "end_time": "2021-09-06T07:16:08.862897Z",
     "start_time": "2021-09-06T07:16:08.345981Z"
    }
   },
   "outputs": [],
   "source": [
    "%matplotlib inline"
   ]
  },
  {
   "cell_type": "markdown",
   "metadata": {},
   "source": [
    "\n",
    "Topics and Transformations\n",
    "===========================\n",
    "\n",
    "토이 corpus에서 변환과정을 실습해봅니다."
   ]
  },
  {
   "cell_type": "code",
   "execution_count": 2,
   "metadata": {
    "ExecuteTime": {
     "end_time": "2021-09-06T07:16:09.579537Z",
     "start_time": "2021-09-06T07:16:09.571614Z"
    }
   },
   "outputs": [],
   "source": [
    "import logging\n",
    "logging.basicConfig(format='%(asctime)s : %(levelname)s : %(message)s', level=logging.INFO)"
   ]
  },
  {
   "cell_type": "markdown",
   "metadata": {},
   "source": [
    "이번 튜토리얼 에서는 한 document를 한 벡터에서 다른 벡터로 represent 하는 법을 배웁니다.\n",
    "이번 과정은 두가지 목표를 가지고 있습니다.\n",
    "\n",
    "1. corpus의 내재된 구조를 꺼내고, 단어들 사이의 관계를 탐색합니다.그리고 그것들은 document를 새롭고 의미론 적으로 표현해봅니다.\n",
    "\n",
    "2. document representation을 좀더 치밀하게 하려면, \n",
    "    효율(적은 리소스로 새로운 represatation 생성)과 효능(중요하지 않은 데이터를 무시)을 증가시켜야 합니다.\n",
    "\n",
    "Creating the Corpus\n",
    "-------------------"
   ]
  },
  {
   "cell_type": "code",
   "execution_count": 3,
   "metadata": {
    "ExecuteTime": {
     "end_time": "2021-09-06T07:39:36.848600Z",
     "start_time": "2021-09-06T07:39:35.661150Z"
    }
   },
   "outputs": [
    {
     "name": "stderr",
     "output_type": "stream",
     "text": [
      "2021-09-06 16:39:36,668 : INFO : adding document #0 to Dictionary(0 unique tokens: [])\n",
      "2021-09-06 16:39:36,671 : INFO : built Dictionary(12 unique tokens: ['computer', 'human', 'interface', 'response', 'survey']...) from 9 documents (total 29 corpus positions)\n",
      "2021-09-06 16:39:36,830 : INFO : Dictionary lifecycle event {'msg': \"built Dictionary(12 unique tokens: ['computer', 'human', 'interface', 'response', 'survey']...) from 9 documents (total 29 corpus positions)\", 'datetime': '2021-09-06T16:39:36.672271', 'gensim': '4.0.1', 'python': '3.9.6 (tags/v3.9.6:db3ff76, Jun 28 2021, 15:26:21) [MSC v.1929 64 bit (AMD64)]', 'platform': 'Windows-10-10.0.19042-SP0', 'event': 'created'}\n"
     ]
    }
   ],
   "source": [
    "from collections import defaultdict\n",
    "from gensim import corpora\n",
    "\n",
    "documents = [\n",
    "    \"Human machine interface for lab abc computer applications\",\n",
    "    \"A survey of user opinion of computer system response time\",\n",
    "    \"The EPS user interface management system\",\n",
    "    \"System and human system engineering testing of EPS\",\n",
    "    \"Relation of user perceived response time to error measurement\",\n",
    "    \"The generation of random binary unordered trees\",\n",
    "    \"The intersection graph of paths in trees\",\n",
    "    \"Graph minors IV Widths of trees and well quasi ordering\",\n",
    "    \"Graph minors A survey\",\n",
    "]\n",
    "\n",
    "# 불용어 제거\n",
    "stoplist = set('for a of the and to in'.split())\n",
    "texts = [\n",
    "    [word for word in document.lower().split() if word not in stoplist]\n",
    "    for document in documents\n",
    "]\n",
    "\n",
    "# 한번 나온 단어제거\n",
    "frequency = defaultdict(int)\n",
    "for text in texts:\n",
    "    for token in text:\n",
    "        frequency[token] += 1\n",
    "\n",
    "texts = [\n",
    "    [token for token in text if frequency[token] > 1]\n",
    "    for text in texts\n",
    "]\n",
    "\n",
    "dictionary = corpora.Dictionary(texts)\n",
    "corpus = [dictionary.doc2bow(text) for text in texts]"
   ]
  },
  {
   "cell_type": "markdown",
   "metadata": {},
   "source": [
    "transformation 생성 <br>\n",
    "+++++++++++++++++++++<br><br>\n",
    "transformation은 training corpus들로 만들어진 python 객체들 입니다.<br>"
   ]
  },
  {
   "cell_type": "code",
   "execution_count": 4,
   "metadata": {
    "ExecuteTime": {
     "end_time": "2021-09-06T07:41:35.544761Z",
     "start_time": "2021-09-06T07:41:35.533598Z"
    }
   },
   "outputs": [
    {
     "name": "stderr",
     "output_type": "stream",
     "text": [
      "2021-09-06 16:41:35,534 : INFO : collecting document frequencies\n",
      "2021-09-06 16:41:35,535 : INFO : PROGRESS: processing document #0\n",
      "2021-09-06 16:41:35,537 : INFO : TfidfModel lifecycle event {'msg': 'calculated IDF weights for 9 documents and 12 features (28 matrix non-zeros)', 'datetime': '2021-09-06T16:41:35.537598', 'gensim': '4.0.1', 'python': '3.9.6 (tags/v3.9.6:db3ff76, Jun 28 2021, 15:26:21) [MSC v.1929 64 bit (AMD64)]', 'platform': 'Windows-10-10.0.19042-SP0', 'event': 'initialize'}\n"
     ]
    }
   ],
   "source": [
    "from gensim import models\n",
    "\n",
    "tfidf = models.TfidfModel(corpus)  # step 1 -- 모델 초기화"
   ]
  },
  {
   "cell_type": "markdown",
   "metadata": {},
   "source": [
    "We used our old corpus from tutorial 1 to initialize (train) the transformation model. Different\n",
    "transformations may require different initialization parameters; in case of TfIdf, the\n",
    "\"training\" consists simply of going through the supplied corpus once and computing document frequencies\n",
    "of all its features. Training other models, such as Latent Semantic Analysis or Latent Dirichlet\n",
    "Allocation, is much more involved and, consequently, takes much more time.\n",
    "\n",
    "다른 transformation은 다른 초기화 파라미터들이 필요할 수 있습니다.<br>\n",
    "tfidt의 경우에는 단어의 문장안의 빈도수와 전체 corpus에서의 빈도수를 이용합니다.<br>\n",
    "<br>\n",
    "Latent Semantic Analysis 또는 Latent Dirichlet Allocation은 더 진보된 방식이지만 결국 더 많은 시간이 필요합니다.\n",
    "\n",
    "<div class=\"alert alert-info\"><h4>Note</h4><p>\n",
    "  Transformations는 항상 두 특정 벡터공간 사이의 변환입니다.\n",
    "  모델 훈련에는 동일한 벡터공간이 사용되어져야 합니다.\n",
    "  다음에 올 벡터 transformation들고 마찬가지 입니다.\n",
    "  문자열처리 방식이 다르다 거나, id가 다르게 동일한 특성공간을 사용하지 못하면,\n",
    "  transformation이 호출 되었을때 feature mismatch가 발생하거나 나쁜 출력이 나오거나\n",
    "  런타임오류가 발생할 수 있습니다.\n",
    "</p></div>\n",
    "\n",
    "\n",
    "벡터 변환\n",
    "+++++++++++++++++++++\n",
    "\n",
    "지금부터 tfidf는 어떤 벡터를 이전 representation으로 변환하는 읽기전용 객체로 다뤄집니다."
   ]
  },
  {
   "cell_type": "code",
   "execution_count": 5,
   "metadata": {
    "ExecuteTime": {
     "end_time": "2021-09-06T08:00:27.643866Z",
     "start_time": "2021-09-06T08:00:27.636041Z"
    }
   },
   "outputs": [
    {
     "name": "stdout",
     "output_type": "stream",
     "text": [
      "[(0, 0.7071067811865476), (1, 0.7071067811865476)]\n"
     ]
    }
   ],
   "source": [
    "doc_bow = [(0, 1), (1, 1)]\n",
    "print(tfidf[doc_bow])  # step 2 -- 벡터변환을 하기위해 모델을 사용"
   ]
  },
  {
   "cell_type": "markdown",
   "metadata": {},
   "source": [
    "모든 corpus에 transformation 적용"
   ]
  },
  {
   "cell_type": "code",
   "execution_count": 6,
   "metadata": {
    "ExecuteTime": {
     "end_time": "2021-09-06T08:01:39.380851Z",
     "start_time": "2021-09-06T08:01:39.370524Z"
    }
   },
   "outputs": [
    {
     "name": "stdout",
     "output_type": "stream",
     "text": [
      "[(0, 0.5773502691896257), (1, 0.5773502691896257), (2, 0.5773502691896257)]\n",
      "[(0, 0.44424552527467476), (3, 0.44424552527467476), (4, 0.44424552527467476), (5, 0.3244870206138555), (6, 0.44424552527467476), (7, 0.3244870206138555)]\n",
      "[(2, 0.5710059809418182), (5, 0.4170757362022777), (7, 0.4170757362022777), (8, 0.5710059809418182)]\n",
      "[(1, 0.49182558987264147), (5, 0.7184811607083769), (8, 0.49182558987264147)]\n",
      "[(3, 0.6282580468670046), (6, 0.6282580468670046), (7, 0.45889394536615247)]\n",
      "[(9, 1.0)]\n",
      "[(9, 0.7071067811865475), (10, 0.7071067811865475)]\n",
      "[(9, 0.5080429008916749), (10, 0.5080429008916749), (11, 0.695546419520037)]\n",
      "[(4, 0.6282580468670046), (10, 0.45889394536615247), (11, 0.6282580468670046)]\n"
     ]
    }
   ],
   "source": [
    "corpus_tfidf = tfidf[corpus]\n",
    "for doc in corpus_tfidf:\n",
    "    print(doc)"
   ]
  },
  {
   "cell_type": "markdown",
   "metadata": {},
   "source": [
    "이번 경우에, 모델학습에 사용된 corpus를 벡터 변환 했습니다.<br>\n",
    "그러나 모델이 한번 초기화 된 이후에도 어떤 단어가 corpus training에 전혀 사용되지 않았다해도<br>\n",
    "그 벡터를 사용 할 수 있습니다.<br>\n",
    "\n",
    "이는 folding-in 방식의 LSA와 topic inference 방식의 LDA가 할 수 있습니다.\n",
    "\n",
    "<div class=\"alert alert-info\"><h4>Note</h4><p>Calling ``model[corpus]`` only creates a wrapper around the old ``corpus``\n",
    "  document stream -- actual conversions are done on-the-fly, during document iteration.\n",
    "  We cannot convert the entire corpus at the time of calling ``corpus_transformed = model[corpus]``,\n",
    "  because that would mean storing the result in main memory, and that contradicts gensim's objective of memory-indepedence.\n",
    "  If you will be iterating over the transformed ``corpus_transformed`` multiple times, and the\n",
    "  transformation is costly, `serialize the resulting corpus to disk first <corpus-formats>` and continue\n",
    "  using that.</p></div>\n",
    "\n",
    "Transformations can also be serialized, one on top of another, in a sort of chain:\n",
    "\n"
   ]
  },
  {
   "cell_type": "code",
   "execution_count": null,
   "metadata": {},
   "outputs": [],
   "source": [
    "lsi_model = models.LsiModel(corpus_tfidf, id2word=dictionary, num_topics=2)  # initialize an LSI transformation\n",
    "corpus_lsi = lsi_model[corpus_tfidf]  # create a double wrapper over the original corpus: bow->tfidf->fold-in-lsi"
   ]
  },
  {
   "cell_type": "markdown",
   "metadata": {},
   "source": [
    "Here we transformed our Tf-Idf corpus via `Latent Semantic Indexing <http://en.wikipedia.org/wiki/Latent_semantic_indexing>`_\n",
    "into a latent 2-D space (2-D because we set ``num_topics=2``). Now you're probably wondering: what do these two latent\n",
    "dimensions stand for? Let's inspect with :func:`models.LsiModel.print_topics`:\n",
    "\n"
   ]
  },
  {
   "cell_type": "code",
   "execution_count": null,
   "metadata": {},
   "outputs": [],
   "source": [
    "lsi_model.print_topics(2)"
   ]
  },
  {
   "cell_type": "markdown",
   "metadata": {},
   "source": [
    "(the topics are printed to log -- see the note at the top of this page about activating\n",
    "logging)\n",
    "\n",
    "It appears that according to LSI, \"trees\", \"graph\" and \"minors\" are all related\n",
    "words (and contribute the most to the direction of the first topic), while the\n",
    "second topic practically concerns itself with all the other words. As expected,\n",
    "the first five documents are more strongly related to the second topic while the\n",
    "remaining four documents to the first topic:\n",
    "\n"
   ]
  },
  {
   "cell_type": "code",
   "execution_count": null,
   "metadata": {},
   "outputs": [],
   "source": [
    "# both bow->tfidf and tfidf->lsi transformations are actually executed here, on the fly\n",
    "for doc, as_text in zip(corpus_lsi, documents):\n",
    "    print(doc, as_text)"
   ]
  },
  {
   "cell_type": "markdown",
   "metadata": {},
   "source": [
    "Model persistency is achieved with the :func:`save` and :func:`load` functions:\n",
    "\n"
   ]
  },
  {
   "cell_type": "code",
   "execution_count": null,
   "metadata": {},
   "outputs": [],
   "source": [
    "import os\n",
    "import tempfile\n",
    "\n",
    "with tempfile.NamedTemporaryFile(prefix='model-', suffix='.lsi', delete=False) as tmp:\n",
    "    lsi_model.save(tmp.name)  # same for tfidf, lda, ...\n",
    "\n",
    "loaded_lsi_model = models.LsiModel.load(tmp.name)\n",
    "\n",
    "os.unlink(tmp.name)"
   ]
  },
  {
   "cell_type": "markdown",
   "metadata": {},
   "source": [
    "The next question might be: just how exactly similar are those documents to each other?\n",
    "Is there a way to formalize the similarity, so that for a given input document, we can\n",
    "order some other set of documents according to their similarity? Similarity queries\n",
    "are covered in the next tutorial (`sphx_glr_auto_examples_core_run_similarity_queries.py`).\n",
    "\n",
    "\n",
    "Available transformations\n",
    "--------------------------\n",
    "\n",
    "Gensim implements several popular Vector Space Model algorithms:\n",
    "\n",
    "* `Term Frequency * Inverse Document Frequency, Tf-Idf <http://en.wikipedia.org/wiki/Tf%E2%80%93idf>`_\n",
    "  expects a bag-of-words (integer values) training corpus during initialization.\n",
    "  During transformation, it will take a vector and return another vector of the\n",
    "  same dimensionality, except that features which were rare in the training corpus\n",
    "  will have their value increased.\n",
    "  It therefore converts integer-valued vectors into real-valued ones, while leaving\n",
    "  the number of dimensions intact. It can also optionally normalize the resulting\n",
    "  vectors to (Euclidean) unit length.\n",
    "\n",
    " .. sourcecode:: pycon\n",
    "\n",
    "    model = models.TfidfModel(corpus, normalize=True)\n",
    "\n",
    "* `Latent Semantic Indexing, LSI (or sometimes LSA) <http://en.wikipedia.org/wiki/Latent_semantic_indexing>`_\n",
    "  transforms documents from either bag-of-words or (preferrably) TfIdf-weighted space into\n",
    "  a latent space of a lower dimensionality. For the toy corpus above we used only\n",
    "  2 latent dimensions, but on real corpora, target dimensionality of 200--500 is recommended\n",
    "  as a \"golden standard\" [1]_.\n",
    "\n",
    "  .. sourcecode:: pycon\n",
    "\n",
    "    model = models.LsiModel(tfidf_corpus, id2word=dictionary, num_topics=300)\n",
    "\n",
    "  LSI training is unique in that we can continue \"training\" at any point, simply\n",
    "  by providing more training documents. This is done by incremental updates to\n",
    "  the underlying model, in a process called `online training`. Because of this feature, the\n",
    "  input document stream may even be infinite -- just keep feeding LSI new documents\n",
    "  as they arrive, while using the computed transformation model as read-only in the meanwhile!\n",
    "\n",
    "  .. sourcecode:: pycon\n",
    "\n",
    "    model.add_documents(another_tfidf_corpus)  # now LSI has been trained on tfidf_corpus + another_tfidf_corpus\n",
    "    lsi_vec = model[tfidf_vec]  # convert some new document into the LSI space, without affecting the model\n",
    "\n",
    "    model.add_documents(more_documents)  # tfidf_corpus + another_tfidf_corpus + more_documents\n",
    "    lsi_vec = model[tfidf_vec]\n",
    "\n",
    "  See the :mod:`gensim.models.lsimodel` documentation for details on how to make\n",
    "  LSI gradually \"forget\" old observations in infinite streams. If you want to get dirty,\n",
    "  there are also parameters you can tweak that affect speed vs. memory footprint vs. numerical\n",
    "  precision of the LSI algorithm.\n",
    "\n",
    "  `gensim` uses a novel online incremental streamed distributed training algorithm (quite a mouthful!),\n",
    "  which I published in [5]_. `gensim` also executes a stochastic multi-pass algorithm\n",
    "  from Halko et al. [4]_ internally, to accelerate in-core part\n",
    "  of the computations.\n",
    "  See also `wiki` for further speed-ups by distributing the computation across\n",
    "  a cluster of computers.\n",
    "\n",
    "* `Random Projections, RP <http://www.cis.hut.fi/ella/publications/randproj_kdd.pdf>`_ aim to\n",
    "  reduce vector space dimensionality. This is a very efficient (both memory- and\n",
    "  CPU-friendly) approach to approximating TfIdf distances between documents, by throwing in a little randomness.\n",
    "  Recommended target dimensionality is again in the hundreds/thousands, depending on your dataset.\n",
    "\n",
    "  .. sourcecode:: pycon\n",
    "\n",
    "    model = models.RpModel(tfidf_corpus, num_topics=500)\n",
    "\n",
    "* `Latent Dirichlet Allocation, LDA <http://en.wikipedia.org/wiki/Latent_Dirichlet_allocation>`_\n",
    "  is yet another transformation from bag-of-words counts into a topic space of lower\n",
    "  dimensionality. LDA is a probabilistic extension of LSA (also called multinomial PCA),\n",
    "  so LDA's topics can be interpreted as probability distributions over words. These distributions are,\n",
    "  just like with LSA, inferred automatically from a training corpus. Documents\n",
    "  are in turn interpreted as a (soft) mixture of these topics (again, just like with LSA).\n",
    "\n",
    "  .. sourcecode:: pycon\n",
    "\n",
    "    model = models.LdaModel(corpus, id2word=dictionary, num_topics=100)\n",
    "\n",
    "  `gensim` uses a fast implementation of online LDA parameter estimation based on [2]_,\n",
    "  modified to run in `distributed mode <distributed>` on a cluster of computers.\n",
    "\n",
    "* `Hierarchical Dirichlet Process, HDP <http://jmlr.csail.mit.edu/proceedings/papers/v15/wang11a/wang11a.pdf>`_\n",
    "  is a non-parametric bayesian method (note the missing number of requested topics):\n",
    "\n",
    "  .. sourcecode:: pycon\n",
    "\n",
    "    model = models.HdpModel(corpus, id2word=dictionary)\n",
    "\n",
    "  `gensim` uses a fast, online implementation based on [3]_.\n",
    "  The HDP model is a new addition to `gensim`, and still rough around its academic edges -- use with care.\n",
    "\n",
    "Adding new :abbr:`VSM (Vector Space Model)` transformations (such as different weighting schemes) is rather trivial;\n",
    "see the `apiref` or directly the `Python code <https://github.com/piskvorky/gensim/blob/develop/gensim/models/tfidfmodel.py>`_\n",
    "for more info and examples.\n",
    "\n",
    "It is worth repeating that these are all unique, **incremental** implementations,\n",
    "which do not require the whole training corpus to be present in main memory all at once.\n",
    "With memory taken care of, I am now improving `distributed`,\n",
    "to improve CPU efficiency, too.\n",
    "If you feel you could contribute by testing, providing use-cases or code, see the `Gensim Developer guide <https://github.com/RaRe-Technologies/gensim/wiki/Developer-page>`__.\n",
    "\n",
    "What Next?\n",
    "----------\n",
    "\n",
    "Continue on to the next tutorial on `sphx_glr_auto_examples_core_run_similarity_queries.py`.\n",
    "\n",
    "References\n",
    "----------\n",
    "\n",
    ".. [1] Bradford. 2008. An empirical study of required dimensionality for large-scale latent semantic indexing applications.\n",
    "\n",
    ".. [2] Hoffman, Blei, Bach. 2010. Online learning for Latent Dirichlet Allocation.\n",
    "\n",
    ".. [3] Wang, Paisley, Blei. 2011. Online variational inference for the hierarchical Dirichlet process.\n",
    "\n",
    ".. [4] Halko, Martinsson, Tropp. 2009. Finding structure with randomness.\n",
    "\n",
    ".. [5] Řehůřek. 2011. Subspace tracking for Latent Semantic Analysis.\n",
    "\n"
   ]
  },
  {
   "cell_type": "code",
   "execution_count": null,
   "metadata": {},
   "outputs": [],
   "source": [
    "import matplotlib.pyplot as plt\n",
    "import matplotlib.image as mpimg\n",
    "img = mpimg.imread('run_topics_and_transformations.png')\n",
    "imgplot = plt.imshow(img)\n",
    "_ = plt.axis('off')"
   ]
  }
 ],
 "metadata": {
  "kernelspec": {
   "display_name": "Python 3 (ipykernel)",
   "language": "python",
   "name": "python3"
  },
  "language_info": {
   "codemirror_mode": {
    "name": "ipython",
    "version": 3
   },
   "file_extension": ".py",
   "mimetype": "text/x-python",
   "name": "python",
   "nbconvert_exporter": "python",
   "pygments_lexer": "ipython3",
   "version": "3.9.6"
  },
  "toc": {
   "base_numbering": 1,
   "nav_menu": {},
   "number_sections": true,
   "sideBar": true,
   "skip_h1_title": false,
   "title_cell": "Table of Contents",
   "title_sidebar": "Contents",
   "toc_cell": false,
   "toc_position": {},
   "toc_section_display": true,
   "toc_window_display": false
  }
 },
 "nbformat": 4,
 "nbformat_minor": 1
}
